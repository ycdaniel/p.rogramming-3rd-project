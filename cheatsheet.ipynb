{
 "cells": [
  {
   "cell_type": "markdown",
   "metadata": {},
   "source": [
    "Table of contents\n",
    " * [초기 django 프로젝트 생성](#초기-django-프로젝트-생성)\n",
    " * [기본 django app 에 대해 migrate](#기본-django-app-에-대해-migrate)\n",
    " * [superuser 계정 생성](#superuser-계정-생성)\n",
    " * [최초의 blog 앱 생성](#최초의-blog-앱-생성)\n",
    "  * [settings 의 INSTALLED_APPS 에 blog 앱 추가](#settings-의-INSTALLED_APPS-에-blog-앱-추가)\n",
    "\n",
    " * [blog 앱, Post 모델 생성](#blog-앱,-Post-모델-생성)\n",
    "  * [마이그레이션 적용](#마이그레이션-적용)\n",
    "  * [admin 에 Post 모델 등록](#admin-에-Post-모델-등록)\n",
    "\n",
    " * Post 목록보기/내용보기 뷰 구현\n",
    "  * [blog 방문객들이 Post 를 조회할 수 있도록, Post 목록 뷰 작성](#blog-방문객들이-Post-를-조회할-수-있도록,-Post-목록-뷰-작성)\n",
    "  * [blog 방문객들이 각 Post 의 내용을 조회할 수 있도록, Post Detail 뷰 작성](#blog-방문객들이-각-Post-의-내용을-조회할-수-있도록,-Post-Detail-뷰-작성)\n",
    "  * [post index 템플릿에서 post detail 뷰로의 링크 추가](#blog-방문객들이-각-Post-의-내용을-조회할-수-있도록,-Post-Detail-뷰-작성)\n",
    "\n",
    " * [모델에 이미지를 저장해보자](#모델에-이미지를-저장해보자)\n",
    "  * [이미지 저장 경로를 변경해보자.](#이미지-저장-경로를-변경해보자.)\n",
    "  * [Post 모델이 저장이 될 때,이미지를 체크하여,최대 1024픽셀 이미지로 변경해보자.](#Post-모델이-저장이-될-때,-이미지를-체크하여,-최대-1024픽셀-이미지로-변경해보자.)\n",
    "\n",
    " * TODO\n",
    "  * url reverse 의 3가지 방법\n",
    "  * Pillow 를 이용한 이미지 처리\n",
    "  * signals (pre_save, post_save)\n",
    "  * ImageField 랜덤 파일명 지정\n",
    "  * Template Loader\n",
    "  * Static Files Finders\n",
    "  * ngrok\n"
   ]
  },
  {
   "cell_type": "markdown",
   "metadata": {},
   "source": [
    "## 초기 django 프로젝트 생성"
   ]
  },
  {
   "cell_type": "code",
   "execution_count": null,
   "metadata": {
    "collapsed": true
   },
   "outputs": [],
   "source": [
    "python manage.py startproject project3\n",
    "cd project3"
   ]
  },
  {
   "cell_type": "markdown",
   "metadata": {},
   "source": [
    "## 기본 django app 에 대해 migrate"
   ]
  },
  {
   "cell_type": "code",
   "execution_count": null,
   "metadata": {
    "collapsed": true
   },
   "outputs": [],
   "source": [
    "python manage.py migrate"
   ]
  },
  {
   "cell_type": "markdown",
   "metadata": {},
   "source": [
    "기본 django app 에서는 이미 migrations 파일들이 생성되어 있으므로, makemigartions 이 따로 필요없습니다. migrate 만 하면 충분합니다."
   ]
  },
  {
   "cell_type": "markdown",
   "metadata": {},
   "source": [
    "## superuser 계정 생성"
   ]
  },
  {
   "cell_type": "code",
   "execution_count": null,
   "metadata": {
    "collapsed": true
   },
   "outputs": [],
   "source": [
    "python manage.py createsuperuser"
   ]
  },
  {
   "cell_type": "markdown",
   "metadata": {},
   "source": [
    "생성된 계정으로, http://localhost:8000/admin/ 에 로그인이 가능합니다. :D"
   ]
  },
  {
   "cell_type": "markdown",
   "metadata": {},
   "source": [
    "## 최초의 blog 앱 생성"
   ]
  },
  {
   "cell_type": "code",
   "execution_count": null,
   "metadata": {
    "collapsed": true
   },
   "outputs": [],
   "source": [
    "python manage.py startapp blog"
   ]
  },
  {
   "cell_type": "markdown",
   "metadata": {},
   "source": [
    "### settings 의 INSTALLED_APPS 에 blog 앱 추가"
   ]
  },
  {
   "cell_type": "code",
   "execution_count": null,
   "metadata": {
    "collapsed": true
   },
   "outputs": [],
   "source": [
    "# project3/settings.py\n",
    "INSTALLED_APPS = (\n",
    "    # (중략) ...\n",
    "    'blog',\n",
    ")"
   ]
  },
  {
   "cell_type": "markdown",
   "metadata": {},
   "source": [
    "INSTALLED_APPS : django 프로젝트 내 관리대상 app 목록\n",
    "\n",
    " * 여기에 포함되지 않으면 ...\n",
    "  * 마이그레이션 대상에서 제외\n",
    "  * 차후 배울 templates, static loader 대상에서도 제외\n",
    "  * urls/view 라우팅은 project/urls.py 에서 직접 라우팅하기 때문에, INSTALLED_APPS 에 포함되지 않아도 가능함."
   ]
  },
  {
   "cell_type": "markdown",
   "metadata": {},
   "source": [
    "## blog 앱, Post 모델 생성"
   ]
  },
  {
   "cell_type": "code",
   "execution_count": null,
   "metadata": {
    "collapsed": true
   },
   "outputs": [],
   "source": [
    "# blog/models.py 파일\n",
    "from django.db import models\n",
    "\n",
    "class Post(models.Model):\n",
    "    title = models.CharField(max_length=100)\n",
    "    content = models.TextField()\n",
    "    created_at = models.DateTimeField(auto_now_add=True)\n",
    "    updated_at = models.DateTimeField(auto_now=True)"
   ]
  },
  {
   "cell_type": "markdown",
   "metadata": {},
   "source": [
    "### 마이그레이션 적용"
   ]
  },
  {
   "cell_type": "code",
   "execution_count": null,
   "metadata": {
    "collapsed": true
   },
   "outputs": [],
   "source": [
    "python manage.py makemigrations\n",
    "python manage.py migrate"
   ]
  },
  {
   "cell_type": "markdown",
   "metadata": {},
   "source": [
    "### admin 에 Post 모델 등록"
   ]
  },
  {
   "cell_type": "code",
   "execution_count": null,
   "metadata": {
    "collapsed": true
   },
   "outputs": [],
   "source": [
    "# blog/admin.py 파일\n",
    "from django.contrib import admin\n",
    "from blog.models import Post\n",
    "\n",
    "admin.site.register(Post)"
   ]
  },
  {
   "cell_type": "markdown",
   "metadata": {},
   "source": [
    "이제 admin 페이지에서 Post 모델 관련 CRUD 작업을 할 수 있습니다. http://localhost:8000/admin/ 에서 Post 데이터를 10개 정도 생성해보세요."
   ]
  },
  {
   "cell_type": "markdown",
   "metadata": {},
   "source": [
    "## blog 방문객들이 Post 를 조회할 수 있도록, Post 목록 뷰 작성"
   ]
  },
  {
   "cell_type": "code",
   "execution_count": null,
   "metadata": {
    "collapsed": true
   },
   "outputs": [],
   "source": [
    "# project3/urls.py\n",
    "from django.conf.urls import include, url\n",
    "from django.contrib import admin\n",
    "\n",
    "urlpatterns = [\n",
    "    url(r'^admin/', include(admin.site.urls)),\n",
    "    url(r'^blog/', include('blog.urls')),  ## 추가됨.\n",
    "]"
   ]
  },
  {
   "cell_type": "code",
   "execution_count": null,
   "metadata": {
    "collapsed": true
   },
   "outputs": [],
   "source": [
    "# blog/urls.py\n",
    "from django.conf.urls import url\n",
    "\n",
    "urlpatterns = [\n",
    "    url(r'^$', 'blog.views.index'),\n",
    "]"
   ]
  },
  {
   "cell_type": "code",
   "execution_count": null,
   "metadata": {
    "collapsed": true
   },
   "outputs": [],
   "source": [
    "# blog/views.py\n",
    "from django.shortcuts import render\n",
    "from blog.models import Post\n",
    "\n",
    "def index(request):\n",
    "    post_list = Post.objects.all()\n",
    "    return render(request, 'blog/index.html', {\n",
    "        'post_list': post_list,\n",
    "    })"
   ]
  },
  {
   "cell_type": "markdown",
   "metadata": {},
   "source": [
    "```html\n",
    "<!-- blog/templates/blog/index.html-->\n",
    "<style>\n",
    "td {\n",
    "    border: 1px solid red;\n",
    "    background-color: lightyellow;\n",
    "}\n",
    "</style>\n",
    "\n",
    "<table>\n",
    "    {% for post in post_list %}\n",
    "    <tr>\n",
    "        <td>{{ post.id }}</td>\n",
    "        <td>{{ post.title }}</td>\n",
    "        <td>{{ post.updated_at }}</td>\n",
    "    </tr>\n",
    "    {% endfor %}\n",
    "</table>\n",
    "```"
   ]
  },
  {
   "cell_type": "markdown",
   "metadata": {},
   "source": [
    "이제 http://localhost:8000/blog/ 주소를 통해 post 목록을 확인할 수 있습니다."
   ]
  },
  {
   "cell_type": "markdown",
   "metadata": {},
   "source": [
    "## blog 방문객들이 각 Post 의 내용을 조회할 수 있도록, Post Detail 뷰 작성"
   ]
  },
  {
   "cell_type": "code",
   "execution_count": null,
   "metadata": {
    "collapsed": true
   },
   "outputs": [],
   "source": [
    "# blog/urls.py\n",
    "from django.conf.urls import url\n",
    "\n",
    "urlpatterns = [\n",
    "    url(r'^$', 'blog.views.index'),\n",
    "    url(r'^(?P<pk>\\d+)/$', 'blog.views.detail'),  # 추가됨.\n",
    "]"
   ]
  },
  {
   "cell_type": "code",
   "execution_count": null,
   "metadata": {
    "collapsed": true
   },
   "outputs": [],
   "source": [
    "# blog/views.py\n",
    "\n",
    "def detail(request, pk):\n",
    "    post = Post.objects.get(pk=pk)\n",
    "    return render(request, 'blog/detail.html', {\n",
    "        'post': post,\n",
    "    })"
   ]
  },
  {
   "cell_type": "markdown",
   "metadata": {},
   "source": [
    "```html\n",
    "<!-- blog/templates/blog/detail.html -->\n",
    "\n",
    "<h1>{{ post.title }}</h1>\n",
    "\n",
    "{{ post.content }}\n",
    "\n",
    "<hr/>\n",
    "<a href=\"/blog/\">글 목록</a>\n",
    "```"
   ]
  },
  {
   "cell_type": "markdown",
   "metadata": {},
   "source": [
    "이제 http://localhost:8000/blog/1/ 등의 주소를 통해 post 내용을 확인할 수 있습니다."
   ]
  },
  {
   "cell_type": "markdown",
   "metadata": {},
   "source": [
    "## post index 템플릿에서 post detail 뷰로의 링크 추가"
   ]
  },
  {
   "cell_type": "markdown",
   "metadata": {},
   "source": [
    "```html\n",
    "<!-- blog/templates/blog/index.html-->\n",
    "<style>\n",
    "td {\n",
    "    border: 1px solid red;\n",
    "    background-color: lightyellow;\n",
    "}\n",
    "</style>\n",
    "\n",
    "<table>\n",
    "    {% for post in post_list %}\n",
    "    <tr>\n",
    "        <td>{{ post.id }}</td>\n",
    "        <!-- 링크 부분만 추가됨. -->\n",
    "        <td><a href=\"/blog/{{ post.id }}/\">{{ post.title }}</a></td>\n",
    "        <td>{{ post.updated_at }}</td>\n",
    "    </tr>\n",
    "    {% endfor %}\n",
    "</table>\n",
    "```"
   ]
  },
  {
   "cell_type": "markdown",
   "metadata": {},
   "source": [
    "이제 링크만 눌러도, 각 post 내용을 즉시 확인할 수 있습니다."
   ]
  },
  {
   "cell_type": "markdown",
   "metadata": {
    "collapsed": true
   },
   "source": [
    "## 모델에 이미지를 저장해보자"
   ]
  },
  {
   "cell_type": "code",
   "execution_count": null,
   "metadata": {
    "collapsed": true
   },
   "outputs": [],
   "source": [
    "# project/settings.py\n",
    "\n",
    "MEDIA_URL = '/media/'                          # 이미지의 URL 을 만들 때, prefix 로 쓰인다.\n",
    "MEDIA_ROOT = os.path.join(BASE_DIR, 'media')   # 이미지가 저장될 경로"
   ]
  },
  {
   "cell_type": "code",
   "execution_count": 7,
   "metadata": {
    "collapsed": true
   },
   "outputs": [],
   "source": [
    "# blog/models.py\n",
    "\n",
    "class Post(models.Model):\n",
    "    # 중략\n",
    "    image = models.ImageField(blank=True, null=True)"
   ]
  },
  {
   "cell_type": "markdown",
   "metadata": {},
   "source": [
    "모델의 내역이 변경되었으므로, 마이그레이션을 수행해줍니다. 이제 관리자 페이지 (http://localhost:8000/admin/) 를 통해, Post 에 이미지를 등록할 수 있습니다.\n",
    "\n",
    "이미지 등록은 되지만 이미지 링크를 열어보면 *404 Page not found* 예외가 발생합니다. 이는 MEDIA 파일들에 대한 뷰처리가 되어있지 않기 때문입니다.\n",
    " * 개발서버 (현재, settings.DEBUG=True) : 개발서버에서는 직접 MEDIA 파일들에 대한 뷰처리를 해줘야 합니다.\n",
    " * 실서비스 서버 (settings.DEBUG=False) : 실서비스 서버에서는 대개 django 이전에 nginx/apache 에서 MEDIA 파일들에 대해서 처리를 해주기 때문에, django 에서 뷰 처리를 해줄 필요가 없습니다."
   ]
  },
  {
   "cell_type": "code",
   "execution_count": null,
   "metadata": {
    "collapsed": true
   },
   "outputs": [],
   "source": [
    "# project/urls.py\n",
    "from django.conf import settings\n",
    "from django.conf.urls import include, url\n",
    "from django.contrib import admin\n",
    "\n",
    "urlpatterns = [\n",
    "    url(r'^admin/', include(admin.site.urls)),\n",
    "    url(r'^blog/', include('blog.urls')),\n",
    "]\n",
    "\n",
    "if settings.DEBUG:\n",
    "    urlpatterns += [\n",
    "        url(r'^media/(?P<path>.*)$', 'django.views.static.serve', {\n",
    "            'document_root': settings.MEDIA_ROOT,\n",
    "        }),\n",
    "    ]\n"
   ]
  },
  {
   "cell_type": "markdown",
   "metadata": {},
   "source": [
    "이제 이미지 링크를 통해, 이미지가 잘 보여집니다."
   ]
  },
  {
   "cell_type": "markdown",
   "metadata": {},
   "source": [
    "### 이미지 저장 경로를 변경해보자."
   ]
  },
  {
   "cell_type": "markdown",
   "metadata": {},
   "source": [
    "ImageField 에 upload_to 인자를 적용해서\n",
    " * **upload_to='mypython'** 로 지정 시 (저장 디렉토리 지정)\n",
    "  * settings.MEDIA_ROOT 디렉토리에 \"mypython/업로드된파일명\" 경로로 저장이 됩니다.\n",
    " * **upload_to='mypython/mydjango/myhello'** 로 지정 시 (저장 디렉토리 지정)\n",
    "  * settings.MEDIA_ROOT 디렉토리에 \"mypython/mydjango/myhello/업로드된파일명\" 경로로 저장이 됩니다.\n",
    " * **upload_to='%Y/%m/%d'** 로 지정 시 (저장 디렉토리 지정)\n",
    "  * settings.MEDIA_ROOT 디렉토리에 \"2015/07/30/업로드된파일명\" 경로로 저장이 됩니다.\n",
    "  * '%Y/%m/%d' 부분은 각각 년/월/일로 변환됩니다.\n",
    " * **upload_to=함수** 로 지정 시 (저장 파일경로 지정)\n",
    "  * 매번 함수의 리턴값을 경로로 받아서 처리합니다.\n",
    "  * 함수에는 2개의 인자가 넘겨집니다. (모델 인스턴스, 원 파일명)\n",
    "  * 함수에서 \"mypython/mydjango/myhello/my.jpg\" 리턴을 하면, settings.MEDIA_ROOT 디렉토리에 \"mypython/mydjango/myhello/my.jpg\" 로 저장이 됩니다.\n",
    "\n",
    "아래와 같이 지정하면, settings.MEDIA_ROOT 디렉토리에 현재 년/월/일 디렉토리에, 업로드된 파일명을 유지한 채로 저장이 됩니다."
   ]
  },
  {
   "cell_type": "code",
   "execution_count": null,
   "metadata": {
    "collapsed": true
   },
   "outputs": [],
   "source": [
    "# blog/models.py\n",
    "\n",
    "class Post(models.Model):\n",
    "    # 중략\n",
    "    image = models.ImageField(upload_to='%Y/%m/%d', blank=True, null=True)"
   ]
  },
  {
   "cell_type": "markdown",
   "metadata": {},
   "source": [
    "업로드된 파일명을 랜덤파일명으로 지정코자 할 때에는 필히, upload_to 에 함수로 인자를 지정해줘야 합니다. 그것의 가장 간단한 형태로서, 다음과 같이 simple_random_name_upload_to 를 지정해볼 수 있겠습니다."
   ]
  },
  {
   "cell_type": "code",
   "execution_count": 9,
   "metadata": {
    "collapsed": true
   },
   "outputs": [],
   "source": [
    "import os\n",
    "from uuid import uuid4\n",
    "\n",
    "# 이미지 랜덤 파일명 지정의 가장 단순한 형태\n",
    "def simple_random_name_upload_to(model_instance, filename):\n",
    "    extension = os.path.splitext(filename)[-1].lower()\n",
    "    return uuid4().hex + extension"
   ]
  },
  {
   "cell_type": "markdown",
   "metadata": {},
   "source": [
    "### Post 모델이 저장이 될 때, 이미지를 체크하여, 최대 1024픽셀 이미지로 변경해보자."
   ]
  },
  {
   "cell_type": "code",
   "execution_count": 11,
   "metadata": {
    "collapsed": true
   },
   "outputs": [],
   "source": [
    "# TODO"
   ]
  },
  {
   "cell_type": "code",
   "execution_count": null,
   "metadata": {
    "collapsed": true
   },
   "outputs": [],
   "source": []
  }
 ],
 "metadata": {
  "kernelspec": {
   "display_name": "Python 3",
   "language": "python",
   "name": "python3"
  },
  "language_info": {
   "codemirror_mode": {
    "name": "ipython",
    "version": 3
   },
   "file_extension": ".py",
   "mimetype": "text/x-python",
   "name": "python",
   "nbconvert_exporter": "python",
   "pygments_lexer": "ipython3",
   "version": "3.4.2"
  }
 },
 "nbformat": 4,
 "nbformat_minor": 0
}
